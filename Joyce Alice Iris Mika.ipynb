{
 "cells": [
  {
   "cell_type": "markdown",
   "metadata": {},
   "source": [
    "# Making our own app!"
   ]
  },
  {
   "cell_type": "markdown",
   "metadata": {},
   "source": [
    "![Tutorial Step](app.png)"
   ]
  },
  {
   "cell_type": "markdown",
   "metadata": {},
   "source": [
    "### 1. 📝 Describe Your Model / 描述你的模型\n",
    "\n",
    "In the code cell below, you'll write a short description of your image classification model. This description will appear in the sidebar of your Streamlit app.\n",
    "\n",
    "在下面的代码单元格中，你需要填写一个关于你图像分类模型的简短介绍。这个介绍会出现在你应用程序的侧边栏中。\n",
    "\n",
    "Please update the `st.write()` section with details specific to your project:\n",
    "\n",
    "请根据你自己的项目填写 `st.write()` 中的内容：\n",
    "\n",
    "- Give your app a **name** (e.g., \"Waste Classifier\" or \"Fruit Detector\")  \n",
    "  给你的应用起一个名字（例如：\"废品分类器\" 或 \"水果识别器\"）\n",
    "\n",
    "- Fill in what the app helps classify (e.g., \"glass vs. plastic bottles\", \"fresh vs. rotten fruit\")  \n",
    "  写明这个应用可以分类什么（例如：玻璃瓶 vs. 塑料瓶；新鲜水果 vs. 腐烂水果）\n",
    "\n",
    "- Replace the numbered list with the classes from your model  \n",
    "  用你模型的类别替换下面的编号列表  \n",
    "  *例如：Class 1 - Glass bottle；Class 2 - Plastic bottle*\n",
    "\n",
    "- Complete the design information:  \n",
    "  补充以下设计信息：\n",
    "\n",
    "  - **Goal**: What is your model meant to do?  \n",
    "    **目标**：你的模型是用来做什么的？\n",
    "\n",
    "  - **Data Type**: What kind of images did you use (e.g., object photos, drawings)?  \n",
    "    **数据类型**：你使用的是什么类型的图像（例如：物体照片、绘图等）\n",
    "\n",
    "  - **Data Source**: Where did your data come from (e.g., baidu, camera photos)?  \n",
    "    **数据来源**：你的数据来自哪里（例如：baidu、你自己拍的照片）\n",
    "\n",
    "---\n",
    "\n",
    "Be creative but accurate! Your text should help users understand what your app does and how it was made.\n",
    "\n",
    "发挥你的创造力，同时保持准确性！你的文字应该能帮助用户理解你的应用是做什么的，以及你是怎么制作它的。\n"
   ]
  },
  {
   "cell_type": "markdown",
   "metadata": {},
   "source": [
    "![ Step](tutorial1.png)\n"
   ]
  },
  {
   "cell_type": "code",
   "execution_count": null,
   "metadata": {},
   "outputs": [],
   "source": [
    "#WRITE HERE\n",
    "\n",
    "with st.sidebar:\n",
    "    # Title for the sidebar\n",
    "    st.title(\"ℹ️ Model Information\\(b'-'d)/\")\n",
    "    \n",
    "    # Placeholder model description; update the text below with your model's details.\n",
    "    st.write(\n",
    "    \"\"\"\n",
    "    BONE FRACUTRE Classification App  \n",
    "    This app helps classify whether if t:\n",
    "\n",
    "    1. not fractured bones\n",
    "    2. fractured bones\n",
    "\n",
    "    **Model Design**  \n",
    "    - **Goal:** 🎯 we want to help patients and doctors to detect whether the bone is fractured or not          \n",
    "    - **Data Type:** 🖼️ x-ray pictues of fractured and not fractured bones\n",
    "    - **Data Source:** 🌐 from some websites      \n",
    "    - **Training:** 🏋️  Model trained using Teachable Machine.\n",
    "    - **Model Type:** 🧠 CNN (Convolutional Neural Network).\n",
    "    \"\"\"\n",
    "    )\n",
    "   "
   ]
  },
  {
   "cell_type": "markdown",
   "metadata": {},
   "source": [
    "### 🖼️ 2. Example Images / 示例图片\n",
    "\n",
    "In the code cell below, you'll edit how your example images appear in the sidebar of your app.  \n",
    "在下面的代码单元格中，你将编辑示例图片在应用侧边栏中的展示方式。\n",
    "\n",
    "Each image block has two parts:  \n",
    "每张图片的部分包括：\n",
    "\n",
    "1. A **title** (shown using `st.write(\"### ...\")`)  \n",
    "   **标题**（用 `st.write(\"### ...\")` 显示）\n",
    "\n",
    "2. A **caption** (shown below the image using `st.image(..., caption=\"...\")`)  \n",
    "   **图片说明**（用 `st.image(..., caption=\"...\")` 显示在图片下方）\n",
    "\n",
    "---\n",
    "\n",
    "🛠️ Your tasks / 你的任务：\n",
    "\n",
    "- Change the text inside `st.write(\"### Example Image X\")` to give your image a proper label  \n",
    "  修改 `st.write(\"### Example Image X\")` 中的文字，为每张图像写一个合适的标题  \n",
    "  （例如：`\"### Glass Bottle (Green)\"`）\n",
    "\n",
    "- Update the caption inside `st.image(...)` with a short, clear description of the image  \n",
    "  在 `st.image(...)` 中填写一段简短清楚的图片说明\n",
    "\n",
    "---\n",
    "\n",
    "📌 Example 示例:\n",
    "```python\n",
    "st.write(\"Class 1: glass bottle\")\n",
    "st.image(img1, caption=\"Glass bottle\")\n"
   ]
  },
  {
   "cell_type": "markdown",
   "metadata": {},
   "source": [
    "![Tutorial Step](tutorial2.png)\n"
   ]
  },
  {
   "cell_type": "code",
   "execution_count": null,
   "metadata": {},
   "outputs": [],
   "source": [
    "#WRITE HER\n",
    "    st.write(\"###fractured\")\n",
    "    img1 = resize_image(\"example1.png\", 300)  \n",
    "    if img1:\n",
    "        st.image(img1, caption=\"<Insert caption for image 1>\")\n",
    "\n",
    "    st.write(\"###not fractured\")\n",
    "    img2 = resize_image(\"example2.png\", 300)  \n",
    "    if img2:\n",
    "        st.image(img2, caption=\"<Insert caption for image 2>\")\n"
   ]
  },
  {
   "cell_type": "markdown",
   "metadata": {},
   "source": [
    "### ✍️ 3. Add Your Names to the App / 添加你的名字到应用中\n",
    "\n",
    "In the code cell below, you'll edit the \"Model Authors\" section that appears in the sidebar of your app.  \n",
    "在下面的代码单元格中，你将编辑出现在侧边栏中的“模型作者”部分。\n",
    "\n",
    "---\n",
    "\n",
    "🛠️ Your task / 你的任务：\n",
    "\n",
    "- Replace the placeholder names (`<Insert Author Name>`) with your **full names**, including both your **Chinese and English names**  \n",
    "  把 `<Insert Author Name>` 替换为你自己的 **全名**，**必须写中文名和英文名**\n",
    "\n",
    "---\n",
    "\n",
    "📌 Example 示例:\n",
    "```python\n",
    "st.write(\"### Model Authors\")\n",
    "st.write(\n",
    "    \"\"\"\n",
    "    - **Name:** 徐馨霞(Joyce xu)  \n",
    "    - **Name:** 叶子铉 (Mika ye)\n",
    "    - **Name:** 黄紫萱（Alice huang）\n",
    "    - **Name:** 吴印瑜（Iris Wu）\n",
    "    \"\"\"\n",
    ")\n"
   ]
  },
  {
   "cell_type": "markdown",
   "metadata": {},
   "source": [
    "![Tutorial Step](tutorial3.png)"
   ]
  },
  {
   "cell_type": "code",
   "execution_count": 1,
   "metadata": {},
   "outputs": [
    {
     "ename": "IndentationError",
     "evalue": "unexpected indent (1825414634.py, line 3)",
     "output_type": "error",
     "traceback": [
      "\u001b[0;36m  Cell \u001b[0;32mIn[1], line 3\u001b[0;36m\u001b[0m\n\u001b[0;31m    st.write(\"### Model Authors\"h\u001b[0m\n\u001b[0m    ^\u001b[0m\n\u001b[0;31mIndentationError\u001b[0m\u001b[0;31m:\u001b[0m unexpected indent\n"
     ]
    }
   ],
   "source": [
    "#WRITE HERE st.write(\"### Model Authors\")\n",
    "# Model Authors Sehtion\n",
    "    st.write(\"### Model Authors\"）\n",
    "             st.write(\n",
    "        \"\"\"\n",
    "        - **Name:** 徐馨霞(Joyce xu)  \n",
    "        - **Name:** 叶子铉 (Mika ye)\n",
    "        - **Name:** 黄紫萱（Alice huang）\n",
    "        - **Name:** 吴印瑜（Iris Wu）\n",
    "        \"\"\"\n",
    "    )\n",
    "    \n",
    "    st.caption(\"📝 Use the file uploader or camera input on the main panel to analyze an image.\")"
   ]
  },
  {
   "cell_type": "markdown",
   "metadata": {},
   "source": [
    "### 🎨 4. Customize the Sidebar Color / 自定义侧边栏颜色\n",
    "\n",
    "In the code cell below, you can change the **background color** of the sidebar.  \n",
    "在下面的代码单元格中，你可以修改侧边栏的**背景颜色**。\n",
    "\n",
    "---\n",
    "\n",
    "🛠️ Your task / 你的任务：\n",
    "\n",
    "- Replace the hex code `#87CEFA` with another color of your choice  \n",
    "  把 `#87CEFA` 替换成你喜欢的其他颜色代码  \n",
    "- You must find and use the **hex color code** (e.g., `#FFB6C1` for light pink)  \n",
    "  必须使用 **十六进制颜色代码**（例如：浅粉色是 `#FFB6C1`）\n",
    "\n",
    "---\n",
    "\n",
    "💡 Tip 小提示:  \n",
    "You can search online for “hex color picker” to choose and copy a color code.  \n",
    "你可以在网上搜索 “hex color picker” 来挑选并复制颜色代码。\n"
   ]
  },
  {
   "cell_type": "markdown",
   "metadata": {},
   "source": [
    "![Tutorial Step](tutorial4.png)"
   ]
  },
  {
   "cell_type": "code",
   "execution_count": null,
   "metadata": {},
   "outputs": [],
   "source": [
    "#WRITE HERE\n",
    "# ---------------------------\n",
    "st.markdown('<div class=\"header-container\">', unsafe_allow_html=True)\n",
    "st.markdown('<h1 class=\"main-title\">Bone Fracture detector</h1>', unsafe_allow_html=True)  # <-- Change to the name of your tool\n",
    "st.markdown('<p class=\"main-text\">find out whether if the bone is fracured or not if</p>', unsafe_allow_html=True)\n",
    "st.markdown('</div>', unsafe_allow_html=True)"
   ]
  }
 ],
 "metadata": {
  "kernelspec": {
   "display_name": "Python 3 (ipykernel)",
   "language": "python",
   "name": "python3"
  },
  "language_info": {
   "codemirror_mode": {
    "name": "ipython",
    "version": 3
   },
   "file_extension": ".py",
   "mimetype": "text/x-python",
   "name": "python",
   "nbconvert_exporter": "python",
   "pygments_lexer": "ipython3",
   "version": "3.11.0"
  }
 },
 "nbformat": 4,
 "nbformat_minor": 4
}
